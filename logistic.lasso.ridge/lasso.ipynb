{
 "cells": [
  {
   "cell_type": "markdown",
   "id": "490d4df1",
   "metadata": {},
   "source": [
    "Importing libraries"
   ]
  },
  {
   "cell_type": "code",
   "execution_count": null,
   "id": "4beba8fc",
   "metadata": {},
   "outputs": [],
   "source": [
    "import numpy as np"
   ]
  },
  {
   "cell_type": "code",
   "execution_count": null,
   "id": "ae2cd1f6",
   "metadata": {},
   "outputs": [],
   "source": [
    "import pandas as pd"
   ]
  },
  {
   "cell_type": "code",
   "execution_count": null,
   "id": "d98f1280",
   "metadata": {},
   "outputs": [],
   "source": [
    "from sklearn.model_selection import train_test_split"
   ]
  },
  {
   "cell_type": "code",
   "execution_count": null,
   "id": "39a1b1bd",
   "metadata": {},
   "outputs": [],
   "source": [
    "import matplotlib.pyplot as plt"
   ]
  },
  {
   "cell_type": "markdown",
   "id": "e1b8b2a6",
   "metadata": {
    "lines_to_next_cell": 2
   },
   "source": [
    "Lasso Regression"
   ]
  },
  {
   "cell_type": "code",
   "execution_count": null,
   "id": "f19e1e2a",
   "metadata": {},
   "outputs": [],
   "source": [
    "class LassoRegression:\n",
    "    def __init__(self, learning_rate, iterations, l1_penality):\n",
    "        self.learning_rate = learning_rate\n",
    "\n",
    "        self.iterations = iterations\n",
    "\n",
    "        self.l1_penality = l1_penality\n",
    "\n",
    "    # Function for model training\n",
    "\n",
    "    def fit(self, X, Y):\n",
    "        # no_of_training_examples, no_of_features\n",
    "\n",
    "        self.m, self.n = X.shape\n",
    "\n",
    "        # weight initialization\n",
    "\n",
    "        self.W = np.zeros(self.n)\n",
    "\n",
    "        self.b = 0\n",
    "\n",
    "        self.X = X\n",
    "\n",
    "        self.Y = Y\n",
    "\n",
    "        # gradient descent learning\n",
    "\n",
    "        for i in range(self.iterations):\n",
    "            self.update_weights()\n",
    "\n",
    "        return self\n",
    "\n",
    "    # Helper function to update weights in gradient descent\n",
    "\n",
    "    def update_weights(self):\n",
    "        Y_pred = self.predict(self.X)\n",
    "\n",
    "        # calculate gradients\n",
    "\n",
    "        dW = np.zeros(self.n)\n",
    "\n",
    "        for j in range(self.n):\n",
    "            if self.W[j] > 0:\n",
    "                dW[j] = (\n",
    "                    -(2 * (self.X[:, j]).dot(self.Y - Y_pred)) + self.l1_penality\n",
    "                ) / self.m\n",
    "\n",
    "            else:\n",
    "                dW[j] = (\n",
    "                    -(2 * (self.X[:, j]).dot(self.Y - Y_pred)) - self.l1_penality\n",
    "                ) / self.m\n",
    "\n",
    "        db = -2 * np.sum(self.Y - Y_pred) / self.m\n",
    "\n",
    "        # update weights\n",
    "\n",
    "        self.W = self.W - self.learning_rate * dW\n",
    "\n",
    "        self.b = self.b - self.learning_rate * db\n",
    "\n",
    "        return self\n",
    "\n",
    "    # Hypothetical function h( x )\n",
    "\n",
    "    def predict(self, X):\n",
    "        return X.dot(self.W) + self.b"
   ]
  },
  {
   "cell_type": "code",
   "execution_count": null,
   "id": "5d9366ff",
   "metadata": {},
   "outputs": [],
   "source": [
    "def main():\n",
    "    # Importing dataset\n",
    "\n",
    "    df = pd.read_csv(\"salary.csv\", header=0)\n",
    "    # df = pd.read_csv(\n",
    "    # \"https://raw.githubusercontent.com/mohit-baliyan/references/master/salary_data.csv\",\n",
    "    # header=0,\n",
    "    # )\n",
    "    X = df.iloc[:, :-1].values\n",
    "\n",
    "    Y = df.iloc[:, 1].values\n",
    "\n",
    "    # Splitting dataset into train and test set\n",
    "\n",
    "    X_train, X_test, Y_train, Y_test = train_test_split(\n",
    "        X, Y, test_size=1 / 3, random_state=0\n",
    "    )\n",
    "\n",
    "    # Model training\n",
    "\n",
    "    model = LassoRegression(iterations=1000, learning_rate=0.01, l1_penality=500)\n",
    "\n",
    "    model.fit(X_train, Y_train)\n",
    "\n",
    "    # Prediction on test set\n",
    "\n",
    "    Y_pred = model.predict(X_test)\n",
    "\n",
    "    print(\"Predicted values \", np.round(Y_pred[:3], 2))\n",
    "\n",
    "    print(\"Real values\t \", Y_test[:3])\n",
    "\n",
    "    print(\"Trained W\t \", round(model.W[0], 2))\n",
    "\n",
    "    print(\"Trained b\t \", round(model.b, 2))\n",
    "\n",
    "    # Visualization on test set\n",
    "\n",
    "    plt.scatter(X, Y, color=\"red\", label=\"actual-data\")\n",
    "\n",
    "    plt.plot(X_test, Y_pred, color=\"blue\", label=\"Lasso\")\n",
    "    plt.legend()\n",
    "    plt.title(\"Salary vs Experience\")\n",
    "\n",
    "    plt.xlabel(\"Years of Experience X\")\n",
    "\n",
    "    plt.ylabel(\"Salary Y\")\n",
    "\n",
    "    plt.show()"
   ]
  },
  {
   "cell_type": "code",
   "execution_count": null,
   "id": "97cfdda9",
   "metadata": {},
   "outputs": [],
   "source": [
    "if __name__ == \"__main__\":\n",
    "    main()"
   ]
  }
 ],
 "metadata": {
  "jupytext": {
   "cell_metadata_filter": "-all",
   "main_language": "python",
   "notebook_metadata_filter": "-all"
  },
  "language_info": {
   "name": "python"
  }
 },
 "nbformat": 4,
 "nbformat_minor": 5
}
