{
 "cells": [
  {
   "cell_type": "markdown",
   "id": "96ad21a8",
   "metadata": {},
   "source": [
    "Importing libraries"
   ]
  },
  {
   "cell_type": "code",
   "execution_count": null,
   "id": "feb06b86",
   "metadata": {},
   "outputs": [],
   "source": [
    "import numpy as np\n",
    "import pandas as pd\n",
    "from sklearn.model_selection import train_test_split\n",
    "import matplotlib.pyplot as plt"
   ]
  },
  {
   "cell_type": "markdown",
   "id": "a2c95d22",
   "metadata": {
    "lines_to_next_cell": 2
   },
   "source": [
    "Ridge Regression"
   ]
  },
  {
   "cell_type": "code",
   "execution_count": null,
   "id": "f7197fb8",
   "metadata": {
    "lines_to_next_cell": 2
   },
   "outputs": [],
   "source": [
    "class RidgeRegression:\n",
    "    def __init__(self, learning_rate, iterations, l2_penality):\n",
    "        self.learning_rate = learning_rate\n",
    "        self.iterations = iterations\n",
    "        self.l2_penality = l2_penality\n",
    "\n",
    "    # Function for model training\n",
    "    def fit(self, X, Y):\n",
    "        # no_of_training_examples, no_of_features\n",
    "        self.m, self.n = X.shape\n",
    "\n",
    "        # weight initialization\n",
    "        self.W = np.zeros(self.n)\n",
    "\n",
    "        self.b = 0\n",
    "        self.X = X\n",
    "        self.Y = Y\n",
    "\n",
    "        # gradient descent learning\n",
    "\n",
    "        for i in range(self.iterations):\n",
    "            self.update_weights()\n",
    "        return self\n",
    "\n",
    "    # Helper function to update weights in gradient descent\n",
    "\n",
    "    def update_weights(self):\n",
    "        Y_pred = self.predict(self.X)\n",
    "\n",
    "        # calculate gradients\n",
    "        dW = (\n",
    "            -(2 * (self.X.T).dot(self.Y - Y_pred)) + (2 * self.l2_penality * self.W)\n",
    "        ) / self.m\n",
    "        db = -2 * np.sum(self.Y - Y_pred) / self.m\n",
    "\n",
    "        # update weights\n",
    "        self.W = self.W - self.learning_rate * dW\n",
    "        self.b = self.b - self.learning_rate * db\n",
    "        return self\n",
    "\n",
    "    # Hypothetical function h( x )\n",
    "    def predict(self, X):\n",
    "        return X.dot(self.W) + self.b"
   ]
  },
  {
   "cell_type": "markdown",
   "id": "d5a0c884",
   "metadata": {
    "lines_to_next_cell": 2
   },
   "source": [
    "Driver code"
   ]
  },
  {
   "cell_type": "code",
   "execution_count": null,
   "id": "3ccd0e03",
   "metadata": {},
   "outputs": [],
   "source": [
    "def main():\n",
    "    # Importing dataset\n",
    "    df = pd.read_csv(\"salary.csv\", header=0)\n",
    "    # df = pd.read_csv(\n",
    "    #     \"https://raw.githubusercontent.com/mohit-baliyan/references/master/salary_data.csv\",\n",
    "    #     header=0,\n",
    "    # )\n",
    "    X = df.iloc[:, :-1].values\n",
    "    Y = df.iloc[:, 1].values\n",
    "\n",
    "    # Splitting dataset into train and test set\n",
    "    X_train, X_test, Y_train, Y_test = train_test_split(\n",
    "        X, Y, test_size=1 / 3, random_state=0\n",
    "    )\n",
    "\n",
    "    # Model training\n",
    "    model = RidgeRegression(iterations=1000, learning_rate=0.01, l2_penality=1)\n",
    "    model.fit(X_train, Y_train)\n",
    "\n",
    "    # Prediction on test set\n",
    "    Y_pred = model.predict(X_test)\n",
    "    print(\"Predicted values \", np.round(Y_pred[:3], 2))\n",
    "    print(\"Real values\t \", Y_test[:3])\n",
    "    print(\"Trained W\t \", round(model.W[0], 2))\n",
    "    print(\"Trained b\t \", round(model.b, 2))\n",
    "\n",
    "    # Visualization on test set\n",
    "\n",
    "    plt.scatter(X, Y, color=\"red\", label=\"actual-data\")\n",
    "\n",
    "    plt.plot(X_test, Y_pred, color=\"blue\", label=\"ridge\")\n",
    "    plt.legend()\n",
    "    plt.title(\"Salary vs Experience\")\n",
    "\n",
    "    plt.xlabel(\"Years of Experience X\")\n",
    "\n",
    "    plt.ylabel(\"Salary Y\")\n",
    "\n",
    "    plt.show()"
   ]
  },
  {
   "cell_type": "code",
   "execution_count": null,
   "id": "cd6db68b",
   "metadata": {},
   "outputs": [],
   "source": [
    "if __name__ == \"__main__\":\n",
    "    main()"
   ]
  }
 ],
 "metadata": {
  "jupytext": {
   "cell_metadata_filter": "-all",
   "main_language": "python",
   "notebook_metadata_filter": "-all"
  },
  "language_info": {
   "name": "python"
  }
 },
 "nbformat": 4,
 "nbformat_minor": 5
}
